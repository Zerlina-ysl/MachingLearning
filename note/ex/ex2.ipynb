{
 "cells": [
  {
   "cell_type": "markdown",
   "id": "03df849e",
   "metadata": {},
   "source": [
    "# Logistic Regression\n",
    "\n",
    "在练习的这一部分中，您将建立一个逻辑回归模型来预测学生是否被大学录取。\n",
    "假设您是大学系的管理员，并且您想根据每个申请人在两次考试中的结果来确定他们的入学机会。您有来自以前申请人的历史数据，可以用作逻辑回归的培训集。对于每个培训示例，您都有申请人在两次考试中的分数和录取决定。  \n",
    "您的任务是建立一个分类模型，根据这两项考试的分数估计申请人的录取概率。\n",
    "## Visualizing the data\n",
    "在开始实现任何学习算法之前，需要可视化数据。在ex2.m的第一部分，代码将通过调用function plotData来加载数据并将其显示在二维绘图上。\n",
    "您现在将在mlotData中完成代码，以便它显示一个像图1这样的数字，其中**轴是两个考试分数**，正负示例用不同的标记显示。"
   ]
  },
  {
   "cell_type": "code",
   "execution_count": 143,
   "id": "9634cf36",
   "metadata": {},
   "outputs": [],
   "source": [
    "import numpy as np\n",
    "import matplotlib.pyplot as plt\n",
    "import pandas as pd"
   ]
  },
  {
   "cell_type": "code",
   "execution_count": 144,
   "id": "af04129f",
   "metadata": {},
   "outputs": [
    {
     "data": {
      "text/html": [
       "<div>\n",
       "<style scoped>\n",
       "    .dataframe tbody tr th:only-of-type {\n",
       "        vertical-align: middle;\n",
       "    }\n",
       "\n",
       "    .dataframe tbody tr th {\n",
       "        vertical-align: top;\n",
       "    }\n",
       "\n",
       "    .dataframe thead th {\n",
       "        text-align: right;\n",
       "    }\n",
       "</style>\n",
       "<table border=\"1\" class=\"dataframe\">\n",
       "  <thead>\n",
       "    <tr style=\"text-align: right;\">\n",
       "      <th></th>\n",
       "      <th>Exam1 score</th>\n",
       "      <th>Exam2 score</th>\n",
       "      <th>Admitted</th>\n",
       "    </tr>\n",
       "  </thead>\n",
       "  <tbody>\n",
       "    <tr>\n",
       "      <th>0</th>\n",
       "      <td>34.623660</td>\n",
       "      <td>78.024693</td>\n",
       "      <td>0</td>\n",
       "    </tr>\n",
       "    <tr>\n",
       "      <th>1</th>\n",
       "      <td>30.286711</td>\n",
       "      <td>43.894998</td>\n",
       "      <td>0</td>\n",
       "    </tr>\n",
       "    <tr>\n",
       "      <th>2</th>\n",
       "      <td>35.847409</td>\n",
       "      <td>72.902198</td>\n",
       "      <td>0</td>\n",
       "    </tr>\n",
       "    <tr>\n",
       "      <th>3</th>\n",
       "      <td>60.182599</td>\n",
       "      <td>86.308552</td>\n",
       "      <td>1</td>\n",
       "    </tr>\n",
       "    <tr>\n",
       "      <th>4</th>\n",
       "      <td>79.032736</td>\n",
       "      <td>75.344376</td>\n",
       "      <td>1</td>\n",
       "    </tr>\n",
       "  </tbody>\n",
       "</table>\n",
       "</div>"
      ],
      "text/plain": [
       "   Exam1 score  Exam2 score  Admitted\n",
       "0    34.623660    78.024693         0\n",
       "1    30.286711    43.894998         0\n",
       "2    35.847409    72.902198         0\n",
       "3    60.182599    86.308552         1\n",
       "4    79.032736    75.344376         1"
      ]
     },
     "execution_count": 144,
     "metadata": {},
     "output_type": "execute_result"
    }
   ],
   "source": [
    "# 1.加载数据\n",
    "path = './ex2/ex2data1.txt'\n",
    "data = pd.read_csv(path,header=None,names=['Exam1 score','Exam2 score','Admitted'])\n",
    "# 读取前五行数据\n",
    "data.head()"
   ]
  },
  {
   "cell_type": "code",
   "execution_count": 145,
   "id": "e08e8715",
   "metadata": {},
   "outputs": [
    {
     "data": {
      "image/png": "[encoded data removed]",
      "text/plain": [
       "<Figure size 864x576 with 1 Axes>"
      ]
     },
     "metadata": {
      "needs_background": "light"
     },
     "output_type": "display_data"
    }
   ],
   "source": [
    "# 2. 可视化数据\n",
    "## 正负示例使用不同的标记 admitted=1 正示例 用+ admitted=0 负示例 o\n",
    "## isin()布尔索引  过滤数据https://blog.csdn.net/lzw2016/article/details/80472649\n",
    "\n",
    "# 2.1 对admitted的不同情况进行分类 当admitted=0 使用negative表示其数据 \n",
    "positive = data[data['Admitted'].isin([1])]\n",
    "negative = data[data['Admitted'].isin([0])]\n",
    "# 2.2 生成子图 根据positive和negative分别画出散点图\n",
    "# plt.subplots返回一个包含figure和axis对象的元组 fig是绘画窗口 axis是坐标系\n",
    "# figsize设置图形大小 宽12高8 https://blog.csdn.net/weixin_46649052/article/details/107424134\n",
    "fig,ax=plt.subplots(figsize=(12,8))\n",
    "# x,y,s:点的大小，c:颜色，marker:点的形状,label:标签\n",
    "# https://blog.csdn.net/zjyklwg/article/details/79479468\n",
    "ax.scatter(positive['Exam1 score'],positive['Exam2 score'],s=50,c='b',marker='+',label='Admitted')\n",
    "ax.scatter(negative['Exam1 score'],negative['Exam2 score'],s=50,c='y',marker='o',label='Not admitted')\n",
    "# 文字显示\n",
    "ax.legend()\n",
    "ax.set_xlabel('Exam 1 score')\n",
    "ax.set_ylabel('Exam 2 score')\n",
    "plt.show()"
   ]
  },
  {
   "cell_type": "markdown",
   "id": "1a59a63a",
   "metadata": {},
   "source": [
    "## Implementeation\n",
    "### Warmup exercise:sigmoid function\n",
    "逻辑回归假说被定义为：\n",
    "$$\n",
    "h_θ(x)=g(θ^Tx)\n",
    "$$\n",
    "函数g是sigmoid函数，被定义为：\n",
    "$$\n",
    "g(z)=\\frac1 {1+e^{-z}}\n",
    "$$\n",
    "**实现sigmoid函数**.对于 x 的大正值，sigmoid 应接近 1，而对于较大的负值，sigmoid 应接近 0。评估 sigmoid（0） 应该正好得到 0.5。您的代码还应该使用向量和矩阵。对于矩阵，您的函数应在每个元素上执行 sigmoid 函数。"
   ]
  },
  {
   "cell_type": "code",
   "execution_count": 146,
   "id": "b5b9ade4",
   "metadata": {},
   "outputs": [],
   "source": [
    "def sigmoid(z):\n",
    "    # np.exp()->e^x\n",
    "    return 1/(1+np.exp(-z))"
   ]
  },
  {
   "cell_type": "markdown",
   "id": "2fae0977",
   "metadata": {},
   "source": [
    "### Cost function and gradient\n",
    "**实现代价函数和逻辑回归的梯度下降法**,逻辑回归的代价函数公式为\n",
    "$$\n",
    "J(θ)=\\frac1 m \\sum_{i=1}^m [-y^ilog(h_θ(x^i))-(1-y^i)log(1-h_θ(x^i))]\n",
    "$$\n",
    "代价函数的梯度是与θ长度相同的向量，其中j^th元素被定义为(for j=0,1,..,n)\n",
    "$$\n",
    "\\frac{∂J(θ)}{∂θ_j}=\\frac1 m\\sum_{i=1}^m(h_θ(x^i)-y^i)x_j^i\n",
    "$$\n",
    "请注意，虽然此梯度看起来与线性回归梯度相同，但公式实际上是不同的，因为线性回归和逻辑回归对 hθ（x） 的定义不同。完成后，您应该看到成本约为 0.693。"
   ]
  },
  {
   "cell_type": "code",
   "execution_count": 147,
   "id": "8728de6f",
   "metadata": {},
   "outputs": [],
   "source": [
    "# 实现代价函数J(θ)\n",
    "def costFunction(theta,X,y):\n",
    "    theta = np.matrix(theta)\n",
    "    X = np.matrix(X)\n",
    "    y = np.matrix(y)\n",
    "    #multiply是ufunc函数，ufunc函数会对这两个数组的对应元素进行计算,计算内积\n",
    "    ## 1.1 −𝑦*𝑙𝑜𝑔(ℎθ(𝑥𝑖))\n",
    "    first = np.multiply(-y,np.log(sigmoid(X*theta.T)))\n",
    "    ## 1.2 (1−𝑦𝑖)𝑙𝑜𝑔(1−ℎθ(𝑥𝑖))\n",
    "    second = np.multiply(1-y,np.log(1-sigmoid(X*theta.T)))\n",
    "    return np.sum(first-second)/len(X)"
   ]
  },
  {
   "cell_type": "code",
   "execution_count": 148,
   "id": "f9d6a9e6",
   "metadata": {},
   "outputs": [
    {
     "data": {
      "text/plain": [
       "0.6931471805599453"
      ]
     },
     "execution_count": 148,
     "metadata": {},
     "output_type": "execute_result"
    }
   ],
   "source": [
    "#### 计算梯度\n",
    "# 1. 初始化X，y,θ\n",
    "#        loc:  在第一列插入数据，则 loc=0\n",
    "#      column: 给插入的列取名，如 column='Ones'\n",
    "#       value: 1\n",
    "# 即为所有数据的第一列插入 1\n",
    "data.insert(0,'Ones',1)\n",
    "# shape[0]输出行数 shape[1]输出列数\n",
    "cols = data.shape[1]\n",
    "# illc[:,:]行数列数抽取数据 左闭右开原则\n",
    "X = data.iloc[:,0:cols-1]\n",
    "y = data.iloc[:,cols-1:cols]\n",
    "# 返回数组\n",
    "theta = np.zeros(3)\n",
    "# 2. 转换X y 的类型 转换为数组\n",
    "X = np.array(X.values)\n",
    "y = np.array(y.values)\n",
    "# 初始theta是0 X是score y是admitted 计算代价 应该为0.693\n",
    "costFunction(theta,X,y)"
   ]
  },
  {
   "cell_type": "code",
   "execution_count": 149,
   "id": "06b9121f",
   "metadata": {},
   "outputs": [],
   "source": [
    "# 计算梯度计算的函数 \n",
    "def gradient(theta,X,y):\n",
    "    # 将参数转化为矩阵\n",
    "    theta = np.matrix(theta)\n",
    "    X = np.matrix(X)\n",
    "    y = np.matrix(y)\n",
    "    #代价函数的梯度是与θ长度相同的向量\n",
    "    # ravel()将多维数据降为一维，\n",
    "    parameters = int(theta.ravel().shape[1])\n",
    "    grad = np.zeros(parameters)\n",
    "    error = sigmoid(X*theta.T)-y\n",
    "    for i in range(parameters):\n",
    "        # x是该列的数据\n",
    "        term = np.multiply(error,X[:,i])\n",
    "        grad[i]=np.sum(term)/len(X)\n",
    "    return grad\n",
    "    "
   ]
  },
  {
   "cell_type": "markdown",
   "id": "7b9383bf",
   "metadata": {},
   "source": [
    "### Learning parameters using fminunc\n",
    "\n",
    "在前面的作业中，您通过实现梯度下降法找到了线性回归模型的最优参数。您编写了一个代价函数并计算其梯度，然后相应地采取了梯度下降步骤。这一次，您将使用一个名为 fminunc 的内置函数，而不是采用梯度下降步骤。  \n",
    "fminunc 是一个优化求解器，用于查找无约束函数的最小值。对于逻辑回归，您希望使用**参数 θ的 优化代价函数 J（θ）**。  \n",
    "具体而言，您将使用 fminunc 在给定固定数据集（X 和 y 值）的情况下，为逻辑回归成本函数找到最佳参数 θ。您将传递以下输入：  \n",
    "• 尝试优化的参数的初始值。  \n",
    "• 一个函数，当给定训练集和特定 θ 时，计算数据集 （X， y） 相对于 θ 的逻辑回归代价和梯度。  \n",
    "```python\n",
    "%  In this exercise, you will use a built-in function (fminunc) to find the\n",
    "%  optimal parameters theta.\n",
    "\n",
    "%  Set options for fminunc\n",
    "# GradObj设置为on 同时返回梯度和代价 允许在最小化函数使用梯度\n",
    "#  MaxIter 选项设置为 400，fminunc 在终止之前最多运行 400 步\n",
    "options = optimset('GradObj', 'on', 'MaxIter', 400);\n",
    "\n",
    "%  Run fminunc to obtain the optimal theta\n",
    "%  This function will return theta and the cost \n",
    "#指定带有 @（t）（costFunction（t， X， y））的函数。这将创建一个参数为 t 的函数，该函数调用costFunction\n",
    "#允许将成本函数包装在与 fminunc 一起使用。\n",
    "[theta, cost] = ...\n",
    "\tfminunc(@(t)(costFunction(t, X, y)), initial_theta, options);\n",
    "# 如果正确完成成本函数，fminunc 将收敛于正确的优化参数，并返回成本和 θ 的最终值\n",
    "# 只需要提供一个计算成本和梯度的函数。fminunc可以完成循环的编写和学习率的设置\n",
    "% Print theta to screen\n",
    "fprintf('Cost at theta found by fminunc: %f\\n', cost);\n",
    "# 使用 θ 的最优参数调用costFunction 函数，期望成本约为 0.203。\n",
    "fprintf('Expected cost (approx): 0.203\\n');\n",
    "fprintf('theta: \\n');\n",
    "fprintf(' %f \\n', theta);\n",
    "fprintf('Expected theta (approx):\\n');\n",
    "fprintf(' -25.161\\n 0.206\\n 0.201\\n');\n",
    "#最终 θ 值用于在训练数据上绘制决策边界\n",
    "% Plot Boundary\n",
    "plotDecisionBoundary(theta, X, y);\n",
    "\n",
    "% Put some labels \n",
    "hold on;\n",
    "% Labels and Legend\n",
    "xlabel('Exam 1 score')\n",
    "ylabel('Exam 2 score')\n",
    "\n",
    "% Specified in plot order\n",
    "legend('Admitted', 'Not admitted')\n",
    "hold off;\n",
    "\n",
    "fprintf('\\nProgram paused. Press enter to continue.\\n');\n",
    "pause;\n",
    "```\n",
    "即 使用内置函数fminunc,可以计算逻辑回归模型的代价和梯度  \n",
    "不用自定义迭代次数和步长，功能会告诉我们最优解。"
   ]
  },
  {
   "cell_type": "code",
   "execution_count": 150,
   "id": "e5eb48b4",
   "metadata": {},
   "outputs": [
    {
     "name": "stderr",
     "output_type": "stream",
     "text": [
      "  NIT   NF   F                       GTG\n",
      "    0    1  6.931471805599453E-01   2.71082898E+02\n",
      "    1    3  6.318123602631537E-01   7.89087138E-01\n",
      "    2    5  5.892425215690646E-01   7.39226659E+01\n",
      "    3    7  4.227824013349988E-01   1.85265719E+01\n",
      "    4    9  4.072926963747109E-01   1.68671130E+01\n",
      "    5   11  3.818854870221429E-01   1.07735103E+01\n",
      "    6   13  3.786234850041487E-01   2.31584929E+01\n",
      "tnc: stepmx = 1000\n",
      "    7   16  2.389268198743758E-01   3.00821998E+00\n",
      "    8   18  2.047203892405198E-01   1.52227867E-01\n",
      "    9   20  2.046713898944703E-01   6.62495276E-02\n",
      "   10   22  2.035303162361215E-01   9.30780876E-04\n",
      "tnc: fscale = 32.7775\n",
      "   11   24  2.035293521271776E-01   8.07191978E-06\n",
      "   12   26  2.035251112915609E-01   1.80213714E-04\n",
      "   13   28  2.034984109909704E-01   5.02878482E-04\n",
      "   14   30  2.034978382926863E-01   9.92360567E-06\n",
      "   15   32  2.034977907837327E-01   3.77843767E-06\n",
      "   16   34  2.034977388898613E-01   1.94830212E-05\n",
      "   17   36  2.034977015894746E-01   2.33850311E-13\n",
      "tnc: |pg| = 1.47534e-08 -> local minimum\n",
      "   17   36  2.034977015894746E-01   2.33850311E-13\n",
      "tnc: Local minima reach (|pg| ~= 0)\n"
     ]
    },
    {
     "data": {
      "text/plain": [
       "(array([-25.16131863,   0.20623159,   0.20147149]), 36, 0)"
      ]
     },
     "execution_count": 150,
     "metadata": {},
     "output_type": "execute_result"
    }
   ],
   "source": [
    "import scipy.optimize as opt\n",
    "# 提供常用优化算法\n",
    "\n",
    "# 1. 在给定固定数据集（X 和 y 值）的情况下，为逻辑回归成本函数找到最佳参数 θ\n",
    "# 有约束的多元函数问题 提供梯度信息 使用截断牛顿法\n",
    "# func = costFunction 优化的目标函数\n",
    "# x0=theta 初始值\n",
    "# fprime = gradient 提供优化函数的梯度函数\n",
    "# args=(X,y) 元组，传递给优化函数的参数\n",
    "result = opt.fmin_tnc(func=costFunction,fprime=gradient,x0=theta,args=(X,y))\n",
    "# result[0]是theta\n",
    "result\n"
   ]
  },
  {
   "cell_type": "code",
   "execution_count": 151,
   "id": "2280de80",
   "metadata": {},
   "outputs": [
    {
     "data": {
      "text/plain": [
       "0.20349770158947458"
      ]
     },
     "execution_count": 151,
     "metadata": {},
     "output_type": "execute_result"
    }
   ],
   "source": [
    "# 计算在该结论下的代价函数\n",
    "# 使用 θ 的最优参数调用costFunction 函数，期望成本约为 0.203。\n",
    "costFunction(result[0],X,y)"
   ]
  },
  {
   "cell_type": "markdown",
   "id": "dff09f8a",
   "metadata": {},
   "source": [
    "# 决策曲线的参考代码\n",
    "```python\n",
    "function plotDecisionBoundary(theta, X, y)\n",
    "%PLOTDECISIONBOUNDARY Plots the data points X and y into a new figure with\n",
    "%the decision boundary defined by theta\n",
    "%   PLOTDECISIONBOUNDARY(theta, X,y) plots the data points with + for the \n",
    "%   positive examples and o for the negative examples. X is assumed to be \n",
    "%   a either \n",
    "%   1) Mx3 matrix, where the first column is an all-ones column for the \n",
    "%      intercept.\n",
    "%   2) MxN, N>3 matrix, where the first column is all-ones\n",
    "\n",
    "% Plot Data\n",
    "plotData(X(:,2:3), y);\n",
    "hold on\n",
    "\n",
    "if size(X, 2) <= 3\n",
    "    % Only need 2 points to define a line, so choose two endpoints\n",
    "    plot_x = [min(X(:,2))-2,  max(X(:,2))+2];\n",
    "\n",
    "    % Calculate the decision boundary line\n",
    "    plot_y = (-1./theta(3)).*(theta(2).*plot_x + theta(1));\n",
    "\n",
    "    % Plot, and adjust axes for better viewing\n",
    "    plot(plot_x, plot_y)\n",
    "    \n",
    "    % Legend, specific for the exercise\n",
    "    legend('Admitted', 'Not admitted', 'Decision Boundary')\n",
    "    axis([30, 100, 30, 100])\n",
    "else\n",
    "    % Here is the grid range\n",
    "    u = linspace(-1, 1.5, 50);\n",
    "    v = linspace(-1, 1.5, 50);\n",
    "\n",
    "    z = zeros(length(u), length(v));\n",
    "    % Evaluate z = theta*x over the grid\n",
    "    for i = 1:length(u)\n",
    "        for j = 1:length(v)\n",
    "            z(i,j) = mapFeature(u(i), v(j))*theta;\n",
    "        end\n",
    "    end\n",
    "    z = z'; % important to transpose z before calling contour\n",
    "\n",
    "    % Plot z = 0\n",
    "    % Notice you need to specify the range [0, 0]\n",
    "    contour(u, v, z, [0, 0], 'LineWidth', 2)\n",
    "end\n",
    "hold off\n",
    "\n",
    "end\n",
    "```"
   ]
  },
  {
   "cell_type": "code",
   "execution_count": 152,
   "id": "bb848836",
   "metadata": {},
   "outputs": [
    {
     "data": {
      "image/png": "[encoded data removed]",
      "text/plain": [
       "<Figure size 864x576 with 1 Axes>"
      ]
     },
     "metadata": {
      "needs_background": "light"
     },
     "output_type": "display_data"
    }
   ],
   "source": [
    "# 画出决策曲线\n",
    "# np.linspace() 序列生成器，在线性空间以均匀步长生成数字序列\n",
    "# 在30-100之间绘制100个线性序列\n",
    "plotting_x1 = np.linspace(30,100,100)\n",
    "# (-theta0-theta1*x)/theta2\n",
    "plotting_h1 = (-result[0][0]-result[0][1]*plotting_x1)/result[0][2]    \n",
    "\n",
    "fig,ax = plt.subplots(figsize=(12,8))\n",
    "# ax.plot()绘制点、线或其他形状 'y'表示yellow\n",
    "ax.plot(plotting_x1,plotting_h1,'y',label='prediction')\n",
    "ax.scatter(positive['Exam1 score'],positive['Exam2 score'],s=50,c='b',marker='+',label='Admitted')\n",
    "ax.scatter(negative['Exam1 score'],negative['Exam2 score'],s=50,c='r',marker='o',label='Not admitted')\n",
    "ax.legend()\n",
    "ax.set_xlabel('Exam1 Score')\n",
    "ax.set_ylabel('Exam2 Score')\n",
    "plt.show()"
   ]
  },
  {
   "cell_type": "markdown",
   "id": "71303528",
   "metadata": {},
   "source": [
    "### Evaluating logistic regression\n",
    "确定参数后，就可以使用模型来预测一个学生是否被录取。一个Exam1得分45，Exam2得分85的学生，有0.776的可能性被录取。  \n",
    "另一种评估参数的方法是看预测的模型在训练集的表现如何。 完成predict(),对于数据集和参数θ，输出1或0。然后把预测函数用于训练集，看准确率吧如何。"
   ]
  },
  {
   "cell_type": "code",
   "execution_count": 153,
   "id": "150adefa",
   "metadata": {},
   "outputs": [
    {
     "data": {
      "text/plain": [
       "0.7762906240463825"
      ]
     },
     "execution_count": 153,
     "metadata": {},
     "output_type": "execute_result"
    }
   ],
   "source": [
    "# 一个Exam1得分45，Exam2得分85的学生，有0.776的可能性被录取。\n",
    "## 定义hθ()\n",
    "def hfunc1(theta,X):\n",
    "    # np.dot() theta.T*X\n",
    "    return sigmoid(np.dot(X,theta))\n",
    "hfunc1(result[0],[1,45,85])"
   ]
  },
  {
   "cell_type": "code",
   "execution_count": 154,
   "id": "735a31dd",
   "metadata": {},
   "outputs": [],
   "source": [
    "# 定义预测函数\n",
    "def predict(theta,X):\n",
    "#     if(hfunc1(theta,X)<0.5):\n",
    "#         return 0\n",
    "#     return 1\n",
    "#     pro=hfunc1(theta,X)\n",
    "    pro = sigmoid(X*theta.T)\n",
    "    return [1 if x>=0.5 else 0 for x in pro]\n",
    "# predict(result[0],[1,45,85])"
   ]
  },
  {
   "cell_type": "code",
   "execution_count": 156,
   "id": "bb304087",
   "metadata": {},
   "outputs": [
    {
     "name": "stdout",
     "output_type": "stream",
     "text": [
      "accuracy = 89 %\n"
     ]
    }
   ],
   "source": [
    "# 统计预测正确率\n",
    "theta_min = np.matrix(result[0])\n",
    "predictions = predict(theta_min,X)\n",
    "# zip() 函数用于将可迭代的对象作为参数，将对象中对应的元素打包成一个个元组，然后返回由这些元组组成的列表。\n",
    "correct = [1 if ((a==1 and b==1) or (a==0 and b==0)) else 0 for (a,b) in zip(predictions,y)]\n",
    "accuracy = (sum(map(int,correct))%len(correct))\n",
    "print('accuracy = {0} %'.format(accuracy))"
   ]
  },
  {
   "cell_type": "markdown",
   "id": "ef357a1f",
   "metadata": {},
   "source": [
    "# Regularized logistic regression\n",
    "接下来实现**正则化逻辑回归，以预测制造厂的微芯片是否通过质量保证（QA）。在QA期间，每个微芯片都要经过各种测试，以确保其正常工作。**  \n",
    "假设您是工厂的产品经理，并且您在两个不同的测试中拥有一些微芯片的测试结果。从这两个测试中，您需要确定微芯片应该被接受还是拒绝。为了帮助您做出决定，您有一个关于过去微芯片的测试结果数据集，您可以从中构建逻辑回归模型。\n",
    "## Visualizing the data\n",
    "坐标轴是两个测试分数，阳性（y = 1，接受）和阴性（y = 0，拒绝）的例子用不同的标记显示。  \n",
    "根据可视化显示，我们的数据集不能通过绘图的直线分为正示例和否定示例。因此，直截了当的逻辑回归应用在这个数据集上表现不佳，因为逻辑回归只能找到线性决策边界。"
   ]
  },
  {
   "cell_type": "code",
   "execution_count": 157,
   "id": "64be1bb5",
   "metadata": {},
   "outputs": [
    {
     "data": {
      "text/html": [
       "<div>\n",
       "<style scoped>\n",
       "    .dataframe tbody tr th:only-of-type {\n",
       "        vertical-align: middle;\n",
       "    }\n",
       "\n",
       "    .dataframe tbody tr th {\n",
       "        vertical-align: top;\n",
       "    }\n",
       "\n",
       "    .dataframe thead th {\n",
       "        text-align: right;\n",
       "    }\n",
       "</style>\n",
       "<table border=\"1\" class=\"dataframe\">\n",
       "  <thead>\n",
       "    <tr style=\"text-align: right;\">\n",
       "      <th></th>\n",
       "      <th>Microchip Test 1</th>\n",
       "      <th>Microchip Test 2</th>\n",
       "      <th>y</th>\n",
       "    </tr>\n",
       "  </thead>\n",
       "  <tbody>\n",
       "    <tr>\n",
       "      <th>0</th>\n",
       "      <td>0.051267</td>\n",
       "      <td>0.69956</td>\n",
       "      <td>1</td>\n",
       "    </tr>\n",
       "    <tr>\n",
       "      <th>1</th>\n",
       "      <td>-0.092742</td>\n",
       "      <td>0.68494</td>\n",
       "      <td>1</td>\n",
       "    </tr>\n",
       "    <tr>\n",
       "      <th>2</th>\n",
       "      <td>-0.213710</td>\n",
       "      <td>0.69225</td>\n",
       "      <td>1</td>\n",
       "    </tr>\n",
       "    <tr>\n",
       "      <th>3</th>\n",
       "      <td>-0.375000</td>\n",
       "      <td>0.50219</td>\n",
       "      <td>1</td>\n",
       "    </tr>\n",
       "    <tr>\n",
       "      <th>4</th>\n",
       "      <td>-0.513250</td>\n",
       "      <td>0.46564</td>\n",
       "      <td>1</td>\n",
       "    </tr>\n",
       "  </tbody>\n",
       "</table>\n",
       "</div>"
      ],
      "text/plain": [
       "   Microchip Test 1  Microchip Test 2  y\n",
       "0          0.051267           0.69956  1\n",
       "1         -0.092742           0.68494  1\n",
       "2         -0.213710           0.69225  1\n",
       "3         -0.375000           0.50219  1\n",
       "4         -0.513250           0.46564  1"
      ]
     },
     "execution_count": 157,
     "metadata": {},
     "output_type": "execute_result"
    }
   ],
   "source": [
    "# 1.加载数据\n",
    "path = './ex2/ex2data2.txt'\n",
    "data_init = pd.read_csv(path,header=None,names=['Microchip Test 1','Microchip Test 2','y'])\n",
    "# 读取前五行数据\n",
    "data_init.head()"
   ]
  },
  {
   "cell_type": "code",
   "execution_count": 158,
   "id": "5905f42d",
   "metadata": {},
   "outputs": [
    {
     "data": {
      "image/png": "[encoded data removed]",
      "text/plain": [
       "<Figure size 864x576 with 1 Axes>"
      ]
     },
     "metadata": {
      "needs_background": "light"
     },
     "output_type": "display_data"
    }
   ],
   "source": [
    "# 2. 可视化数据\n",
    "## 正负示例使用不同的标记 admitted=1 正示例 用+ admitted=0 负示例 o\n",
    "## isin()布尔索引  过滤数据https://blog.csdn.net/lzw2016/article/details/80472649\n",
    "\n",
    "# 2.1 对admitted的不同情况进行分类 当admitted=0 使用negative表示其数据 \n",
    "positive2 = data_init[data_init['y'].isin([1])]\n",
    "negative2 = data_init[data_init['y'].isin([0])]\n",
    "# 2.2 生成子图 根据positive和negative分别画出散点图\n",
    "# plt.subplots返回一个包含figure和axis对象的元组 fig是绘画窗口 axis是坐标系\n",
    "# figsize设置图形大小 宽12高8 https://blog.csdn.net/weixin_46649052/article/details/107424134\n",
    "fig,ax=plt.subplots(figsize=(12,8))\n",
    "# x,y,s:点的大小，c:颜色，marker:点的形状,label:标签\n",
    "# https://blog.csdn.net/zjyklwg/article/details/79479468\n",
    "ax.scatter(positive2['Microchip Test 1'],positive2['Microchip Test 2'],s=50,c='b',marker='+',label='y=1')\n",
    "ax.scatter(negative2['Microchip Test 1'],negative2['Microchip Test 2'],s=50,c='y',marker='o',label='y=0')\n",
    "# 文字显示\n",
    "ax.legend()\n",
    "ax.set_xlabel('Microchip Test 1')\n",
    "ax.set_ylabel('Microchip Test 2')\n",
    "plt.show()"
   ]
  },
  {
   "cell_type": "markdown",
   "id": "608fac12",
   "metadata": {},
   "source": [
    "## Feature mapping\n",
    "更好地适应数据的一种方法是从每个数据点创建更多特征。在提供的函数mapFeature.m中，我们将把特征映射到x1和x2的所有多项式项中，直到第六次幂。\n",
    "```python \n",
    "function out = mapFeature(X1, X2)\n",
    "% MAPFEATURE Feature mapping function to polynomial features\n",
    "%\n",
    "%   MAPFEATURE(X1, X2) maps the two input features\n",
    "%   to quadratic features used in the regularization exercise.\n",
    "%\n",
    "%   Returns a new feature array with more features, comprising of \n",
    "%   X1, X2, X1.^2, X2.^2, X1*X2, X1*X2.^2, etc..\n",
    "%\n",
    "%   Inputs X1, X2 must be the same size\n",
    "%\n",
    "\n",
    "degree = 6;\n",
    "out = ones(size(X1(:,1)));\n",
    "for i = 1:degree\n",
    "    for j = 0:i\n",
    "        out(:, end+1) = (X1.^(i-j)).*(X2.^j);\n",
    "    end\n",
    "end\n",
    "\n",
    "end\n",
    "```\n",
    "由于这种映射，我们两个特征的向量（两个QA测试的分数）已转换为28维向量。在这个高维特征向量上训练的逻辑回归分类器将具有更复杂的决策边界，并在我们的二维图中绘制时显得非线性。\n",
    "\n",
    "虽然特征映射允许我们构建更具表现力的分类器，但它也更容易过度拟合。在练习的下一部分，您将**实施正则化逻辑回归来适应数据，使用正则化解决过度拟合问题**。\n"
   ]
  },
  {
   "cell_type": "code",
   "execution_count": 159,
   "id": "62f9b541",
   "metadata": {},
   "outputs": [
    {
     "data": {
      "text/html": [
       "<div>\n",
       "<style scoped>\n",
       "    .dataframe tbody tr th:only-of-type {\n",
       "        vertical-align: middle;\n",
       "    }\n",
       "\n",
       "    .dataframe tbody tr th {\n",
       "        vertical-align: top;\n",
       "    }\n",
       "\n",
       "    .dataframe thead th {\n",
       "        text-align: right;\n",
       "    }\n",
       "</style>\n",
       "<table border=\"1\" class=\"dataframe\">\n",
       "  <thead>\n",
       "    <tr style=\"text-align: right;\">\n",
       "      <th></th>\n",
       "      <th>y</th>\n",
       "      <th>F10</th>\n",
       "      <th>F01</th>\n",
       "      <th>F20</th>\n",
       "      <th>F11</th>\n",
       "      <th>F02</th>\n",
       "      <th>F30</th>\n",
       "      <th>F21</th>\n",
       "      <th>F12</th>\n",
       "      <th>F03</th>\n",
       "      <th>...</th>\n",
       "      <th>F23</th>\n",
       "      <th>F14</th>\n",
       "      <th>F05</th>\n",
       "      <th>F60</th>\n",
       "      <th>F51</th>\n",
       "      <th>F42</th>\n",
       "      <th>F33</th>\n",
       "      <th>F24</th>\n",
       "      <th>F15</th>\n",
       "      <th>F06</th>\n",
       "    </tr>\n",
       "  </thead>\n",
       "  <tbody>\n",
       "    <tr>\n",
       "      <th>0</th>\n",
       "      <td>1</td>\n",
       "      <td>0.051267</td>\n",
       "      <td>0.69956</td>\n",
       "      <td>0.002628</td>\n",
       "      <td>0.035864</td>\n",
       "      <td>0.489384</td>\n",
       "      <td>0.000135</td>\n",
       "      <td>0.001839</td>\n",
       "      <td>0.025089</td>\n",
       "      <td>0.342354</td>\n",
       "      <td>...</td>\n",
       "      <td>0.000900</td>\n",
       "      <td>0.012278</td>\n",
       "      <td>0.167542</td>\n",
       "      <td>1.815630e-08</td>\n",
       "      <td>2.477505e-07</td>\n",
       "      <td>0.000003</td>\n",
       "      <td>0.000046</td>\n",
       "      <td>0.000629</td>\n",
       "      <td>0.008589</td>\n",
       "      <td>0.117206</td>\n",
       "    </tr>\n",
       "    <tr>\n",
       "      <th>1</th>\n",
       "      <td>1</td>\n",
       "      <td>-0.092742</td>\n",
       "      <td>0.68494</td>\n",
       "      <td>0.008601</td>\n",
       "      <td>-0.063523</td>\n",
       "      <td>0.469143</td>\n",
       "      <td>-0.000798</td>\n",
       "      <td>0.005891</td>\n",
       "      <td>-0.043509</td>\n",
       "      <td>0.321335</td>\n",
       "      <td>...</td>\n",
       "      <td>0.002764</td>\n",
       "      <td>-0.020412</td>\n",
       "      <td>0.150752</td>\n",
       "      <td>6.362953e-07</td>\n",
       "      <td>-4.699318e-06</td>\n",
       "      <td>0.000035</td>\n",
       "      <td>-0.000256</td>\n",
       "      <td>0.001893</td>\n",
       "      <td>-0.013981</td>\n",
       "      <td>0.103256</td>\n",
       "    </tr>\n",
       "    <tr>\n",
       "      <th>2</th>\n",
       "      <td>1</td>\n",
       "      <td>-0.213710</td>\n",
       "      <td>0.69225</td>\n",
       "      <td>0.045672</td>\n",
       "      <td>-0.147941</td>\n",
       "      <td>0.479210</td>\n",
       "      <td>-0.009761</td>\n",
       "      <td>0.031616</td>\n",
       "      <td>-0.102412</td>\n",
       "      <td>0.331733</td>\n",
       "      <td>...</td>\n",
       "      <td>0.015151</td>\n",
       "      <td>-0.049077</td>\n",
       "      <td>0.158970</td>\n",
       "      <td>9.526844e-05</td>\n",
       "      <td>-3.085938e-04</td>\n",
       "      <td>0.001000</td>\n",
       "      <td>-0.003238</td>\n",
       "      <td>0.010488</td>\n",
       "      <td>-0.033973</td>\n",
       "      <td>0.110047</td>\n",
       "    </tr>\n",
       "    <tr>\n",
       "      <th>3</th>\n",
       "      <td>1</td>\n",
       "      <td>-0.375000</td>\n",
       "      <td>0.50219</td>\n",
       "      <td>0.140625</td>\n",
       "      <td>-0.188321</td>\n",
       "      <td>0.252195</td>\n",
       "      <td>-0.052734</td>\n",
       "      <td>0.070620</td>\n",
       "      <td>-0.094573</td>\n",
       "      <td>0.126650</td>\n",
       "      <td>...</td>\n",
       "      <td>0.017810</td>\n",
       "      <td>-0.023851</td>\n",
       "      <td>0.031940</td>\n",
       "      <td>2.780914e-03</td>\n",
       "      <td>-3.724126e-03</td>\n",
       "      <td>0.004987</td>\n",
       "      <td>-0.006679</td>\n",
       "      <td>0.008944</td>\n",
       "      <td>-0.011978</td>\n",
       "      <td>0.016040</td>\n",
       "    </tr>\n",
       "    <tr>\n",
       "      <th>4</th>\n",
       "      <td>1</td>\n",
       "      <td>-0.513250</td>\n",
       "      <td>0.46564</td>\n",
       "      <td>0.263426</td>\n",
       "      <td>-0.238990</td>\n",
       "      <td>0.216821</td>\n",
       "      <td>-0.135203</td>\n",
       "      <td>0.122661</td>\n",
       "      <td>-0.111283</td>\n",
       "      <td>0.100960</td>\n",
       "      <td>...</td>\n",
       "      <td>0.026596</td>\n",
       "      <td>-0.024128</td>\n",
       "      <td>0.021890</td>\n",
       "      <td>1.827990e-02</td>\n",
       "      <td>-1.658422e-02</td>\n",
       "      <td>0.015046</td>\n",
       "      <td>-0.013650</td>\n",
       "      <td>0.012384</td>\n",
       "      <td>-0.011235</td>\n",
       "      <td>0.010193</td>\n",
       "    </tr>\n",
       "  </tbody>\n",
       "</table>\n",
       "<p>5 rows × 28 columns</p>\n",
       "</div>"
      ],
      "text/plain": [
       "   y       F10      F01       F20       F11       F02       F30       F21  \\\n",
       "0  1  0.051267  0.69956  0.002628  0.035864  0.489384  0.000135  0.001839   \n",
       "1  1 -0.092742  0.68494  0.008601 -0.063523  0.469143 -0.000798  0.005891   \n",
       "2  1 -0.213710  0.69225  0.045672 -0.147941  0.479210 -0.009761  0.031616   \n",
       "3  1 -0.375000  0.50219  0.140625 -0.188321  0.252195 -0.052734  0.070620   \n",
       "4  1 -0.513250  0.46564  0.263426 -0.238990  0.216821 -0.135203  0.122661   \n",
       "\n",
       "        F12       F03  ...       F23       F14       F05           F60  \\\n",
       "0  0.025089  0.342354  ...  0.000900  0.012278  0.167542  1.815630e-08   \n",
       "1 -0.043509  0.321335  ...  0.002764 -0.020412  0.150752  6.362953e-07   \n",
       "2 -0.102412  0.331733  ...  0.015151 -0.049077  0.158970  9.526844e-05   \n",
       "3 -0.094573  0.126650  ...  0.017810 -0.023851  0.031940  2.780914e-03   \n",
       "4 -0.111283  0.100960  ...  0.026596 -0.024128  0.021890  1.827990e-02   \n",
       "\n",
       "            F51       F42       F33       F24       F15       F06  \n",
       "0  2.477505e-07  0.000003  0.000046  0.000629  0.008589  0.117206  \n",
       "1 -4.699318e-06  0.000035 -0.000256  0.001893 -0.013981  0.103256  \n",
       "2 -3.085938e-04  0.001000 -0.003238  0.010488 -0.033973  0.110047  \n",
       "3 -3.724126e-03  0.004987 -0.006679  0.008944 -0.011978  0.016040  \n",
       "4 -1.658422e-02  0.015046 -0.013650  0.012384 -0.011235  0.010193  \n",
       "\n",
       "[5 rows x 28 columns]"
      ]
     },
     "execution_count": 159,
     "metadata": {},
     "output_type": "execute_result"
    }
   ],
   "source": [
    "# 特征映射 为每组数据创建更多特征 \n",
    "# 最高6次幂\n",
    "degree=6\n",
    "data2 = data_init\n",
    "x1 = data2['Microchip Test 1']\n",
    "x2 = data2['Microchip Test 2']\n",
    "# data2.insert(3,'Ones',1)\n",
    "for i in range(1,degree+1):\n",
    "    for j in range(0,i+1):\n",
    "        # x1^(i-j) * x2^j\n",
    "        data2['F'+str(i-j)+str(j)]=np.power(x1,i-j)*np.power(x2,j)\n",
    "# drop() 删除指定行列\n",
    "#labels：MicroChip Test 1 字符或者数值，加上axis ，表示带label标识的行或者列；如 (labels='A', axis=1) 表示A列\n",
    "#axis：1axis=0表示行，axis=1表示列 \n",
    "#inplace：True表示删除某行后原dataframe变化，False不改变原始dataframe\n",
    "data2.drop('Microchip Test 1',axis=1,inplace=True)\n",
    "data2.drop('Microchip Test 2',axis=1,inplace=True)\n",
    "\n",
    "data2.head()"
   ]
  },
  {
   "cell_type": "markdown",
   "id": "297a7b6c",
   "metadata": {},
   "source": [
    "## 代价函数和梯度\n",
    "**正则化逻辑回归模型代价函数和梯度的计算**  \n",
    "$$\n",
    "J(θ)=\\frac1 m \\sum_{i=1}^m [-y^ilog(h_θ(x^i))-(1-y^i)log(1-h_θ(x^i))]+\\fracλ {2m} \\sum_{j=1}^n θ_j^2\n",
    "$$\n",
    "\n",
    "注意：不需要正则化参数θ_0。  \n",
    "代价函数的梯度的第j个元素的更新公式： \n",
    "\n",
    "$$\n",
    "\\frac{∂J(θ)}{∂θ_j}=\\frac1 m\\sum_{i=1}^m(h_θ(x^i)-y^i)x_j^i \\quad for j=0\\\\\n",
    "\\frac{∂J(θ)}{∂θ_j}=(\\frac1 m\\sum_{i=1}^m(h_θ(x^i)-y^i)x_j^i)+\\frac λ mθ_j  \\quad for j>=1\n",
    "$$\n",
    "完成后，使用初始θ（全为0），代价计算为0.693"
   ]
  },
  {
   "cell_type": "code",
   "execution_count": 160,
   "id": "9d9db253",
   "metadata": {
    "scrolled": true
   },
   "outputs": [],
   "source": [
    "# 实现正则化的代价函数\n",
    "def costReg(theta,X,y,learningRate):\n",
    "    theta = np.matrix(theta)\n",
    "    X = np.matrix(X)\n",
    "    y = np.matrix(y)\n",
    "    first = np.multiply(-y,np.log(sigmoid(X*theta.T)))\n",
    "    # 正则化 λ/m*θ\n",
    "    second = np.multiply(1-y,np.log(1-sigmoid(X*theta.T)))\n",
    "    #λ/2𝑚  ∑𝑗=θ^2\n",
    "    reg = (learningRate/(2*len(X)))*np.sum(np.power(theta[:,1:theta.shape[1]],2))\n",
    "    return np.sum(first-second)/len(X)+reg"
   ]
  },
  {
   "cell_type": "code",
   "execution_count": 161,
   "id": "fceec7a5",
   "metadata": {},
   "outputs": [],
   "source": [
    "# 实现正则化的梯度计算\n",
    "def gradientReg(theta,X,y,learningRate):\n",
    "    # 将参数转化为矩阵\n",
    "    theta = np.matrix(theta)\n",
    "    X = np.matrix(X)\n",
    "    y = np.matrix(y)\n",
    "    #代价函数的梯度是与θ长度相同的向量\n",
    "    # ravel()将多维数据降为一维，\n",
    "    parameters = int(theta.ravel().shape[1])\n",
    "    grad = np.zeros(parameters)\n",
    "    error = sigmoid(X*theta.T)-y\n",
    "    for i in range(parameters):\n",
    "        # x是该列的数据\n",
    "        term = np.multiply(error,X[:,i])\n",
    "        if(i==0):\n",
    "            grad[i]=np.sum(term)/len(X)\n",
    "        else:\n",
    "            grad[i]=np.sum(term)/len(X)+(learningRate/len(X))*theta[:,i]\n",
    "    return grad\n",
    "    "
   ]
  },
  {
   "cell_type": "code",
   "execution_count": 162,
   "id": "38d8b884",
   "metadata": {},
   "outputs": [
    {
     "data": {
      "text/plain": [
       "0.6931471805599454"
      ]
     },
     "execution_count": 162,
     "metadata": {},
     "output_type": "execute_result"
    }
   ],
   "source": [
    "# 初始化X y θ\n",
    "\n",
    "cols = data2.shape[1]\n",
    "# illc[:,:]行数列数抽取数据 左闭右开原则\n",
    "x2 = data2.iloc[:,1:cols]\n",
    "y2 = data2.iloc[:,0:1]\n",
    "# 返回数组\n",
    "theta2 = np.zeros(cols-1)\n",
    "# 2. 转换X y 的类型 转换为数组\n",
    "x2 = np.array(x2.values)\n",
    "y2 = np.array(y2.values)\n",
    "# 初始theta是0 X是score y是admitted 计算代价 应该为0.693\n",
    "costReg(theta2,x2,y2,1)"
   ]
  },
  {
   "cell_type": "markdown",
   "id": "45d4f5b4",
   "metadata": {},
   "source": [
    "### Learning parameters using fminunc\n",
    "正确的完成正则化逻辑回归的代价和成本"
   ]
  },
  {
   "cell_type": "code",
   "execution_count": 168,
   "id": "4480ed89",
   "metadata": {},
   "outputs": [
    {
     "name": "stderr",
     "output_type": "stream",
     "text": [
      "  NIT   NF   F                       GTG\n",
      "    0    1  6.931471805599454E-01   3.00830320E-01\n",
      "    1    5  6.888205030394400E-01   4.28854988E-03\n",
      "    1   54  6.888205030394400E-01   4.28854988E-03\n",
      "tnc: Linear search failed\n"
     ]
    },
    {
     "data": {
      "text/plain": [
       "(array([ 1.29482394e-02,  5.74494988e-03, -4.56792535e-02,  7.48518606e-03,\n",
       "        -4.34790217e-02,  3.22220613e-03,  3.74580346e-04, -2.13521380e-03,\n",
       "         2.68010850e-03, -1.55027340e-02,  2.66485107e-03, -6.60803438e-03,\n",
       "         2.59397851e-03, -9.53549183e-03,  2.04131944e-03,  2.46235928e-04,\n",
       "        -6.00841489e-04,  3.01961422e-05, -1.22631514e-03,  6.04046420e-03,\n",
       "        -5.81529613e-03,  1.41853245e-03, -2.18147587e-03,  7.54376798e-04,\n",
       "        -1.55789164e-03,  1.01651554e-03,  2.10914424e-03]),\n",
       " 55,\n",
       " 4)"
      ]
     },
     "execution_count": 168,
     "metadata": {},
     "output_type": "execute_result"
    }
   ],
   "source": [
    "learningRate=1\n",
    "result2 = opt.fmin_tnc(func=costReg,fprime=gradientReg,x0=theta2,args=(x2,y2,learningRate))\n",
    "result2"
   ]
  },
  {
   "cell_type": "markdown",
   "id": "8aa865b8",
   "metadata": {},
   "source": [
    "## Plotting the desicion boundary\n",
    "绘制区分正示例和负示例的（非线性）决策边界。将分类器的预测放在均匀间隔的网格上来绘制非线性决策边界，然后绘制预测从y = 0到y = 1的轮廓图。\n"
   ]
  },
  {
   "cell_type": "code",
   "execution_count": 164,
   "id": "ee75c8d6",
   "metadata": {},
   "outputs": [
    {
     "name": "stdout",
     "output_type": "stream",
     "text": [
      "accuracy =60%\n"
     ]
    }
   ],
   "source": [
    "theta_min = np.matrix(result2[0])\n",
    "predictions = predict(theta_min,x2)\n",
    "correct = [1 if ((a==1 and b==1) or (a==0 and b==0)) else 0 for (a,b) in zip(predictions,y2)]\n",
    "accuracy = (sum(map(int,correct))%len(correct))\n",
    "print('accuracy ={0}%'.format(accuracy))"
   ]
  },
  {
   "cell_type": "code",
   "execution_count": 165,
   "id": "3fca51a1",
   "metadata": {},
   "outputs": [],
   "source": [
    "# 计算假设函数\n",
    "def hfunc2(theta,x1,x2):\n",
    "    temp = theta[0][0]\n",
    "    place=0\n",
    "     #   out(:, end 1) = (X1.^(i-j)).*(X2.^j);\n",
    "    for i in range(1,degree+1):\n",
    "        for j in range(0,i+1):\n",
    "            temp+=np.power(x1,i-j)*np.power(x2,j)*theta[0][place+1]\n",
    "            place+=1\n",
    "    return temp"
   ]
  },
  {
   "cell_type": "code",
   "execution_count": 166,
   "id": "b8f93ed4",
   "metadata": {},
   "outputs": [],
   "source": [
    "def find_decision_boundary(theta):\n",
    "    t1 = np.linspace(-1,1.5,1000)\n",
    "    t2 = np.linspace(-1,1.5,1000)\n",
    "    cordinates = [(x,y)for x in t1 for y in t2]\n",
    "    x_cord,y_cord = zip(*cordinates)\n",
    "    h_val = pd.DataFrame({'x1':x_cord,'x2':y_cord})\n",
    "    # 存放假设函数\n",
    "    h_val['hval']=hfunc2(theta,h_val['x1'],h_val['x2'])\n",
    "    decision = h_val[np.abs(h_val['hval'])<2*10**-3]\n",
    "    return decision.x1,decision.x2"
   ]
  },
  {
   "cell_type": "code",
   "execution_count": 167,
   "id": "b7fc1400",
   "metadata": {},
   "outputs": [
    {
     "ename": "IndexError",
     "evalue": "index 27 is out of bounds for axis 0 with size 27",
     "output_type": "error",
     "traceback": [
      "\u001b[0;31m---------------------------------------------------------------------------\u001b[0m",
      "\u001b[0;31mIndexError\u001b[0m                                Traceback (most recent call last)",
      "Input \u001b[0;32mIn [167]\u001b[0m, in \u001b[0;36m<cell line: 7>\u001b[0;34m()\u001b[0m\n\u001b[1;32m      5\u001b[0m ax\u001b[38;5;241m.\u001b[39mset_xlabel(\u001b[38;5;124m'\u001b[39m\u001b[38;5;124mMicrochip Test 1\u001b[39m\u001b[38;5;124m'\u001b[39m)\n\u001b[1;32m      6\u001b[0m ax\u001b[38;5;241m.\u001b[39mset_ylabel(\u001b[38;5;124m'\u001b[39m\u001b[38;5;124mMicrochip Test 2\u001b[39m\u001b[38;5;124m'\u001b[39m)\n\u001b[0;32m----> 7\u001b[0m x,y \u001b[38;5;241m=\u001b[39m \u001b[43mfind_decision_boundary\u001b[49m\u001b[43m(\u001b[49m\u001b[43mresult2\u001b[49m\u001b[43m)\u001b[49m\n\u001b[1;32m      8\u001b[0m plt\u001b[38;5;241m.\u001b[39mscatter(x,y,c\u001b[38;5;241m=\u001b[39m\u001b[38;5;124m'\u001b[39m\u001b[38;5;124mr\u001b[39m\u001b[38;5;124m'\u001b[39m,s\u001b[38;5;241m=\u001b[39m\u001b[38;5;241m10\u001b[39m,label\u001b[38;5;241m=\u001b[39m\u001b[38;5;124m'\u001b[39m\u001b[38;5;124mPrediction\u001b[39m\u001b[38;5;124m'\u001b[39m)\n\u001b[1;32m      9\u001b[0m ax\u001b[38;5;241m.\u001b[39mlegend()\n",
      "Input \u001b[0;32mIn [166]\u001b[0m, in \u001b[0;36mfind_decision_boundary\u001b[0;34m(theta)\u001b[0m\n\u001b[1;32m      6\u001b[0m h_val \u001b[38;5;241m=\u001b[39m pd\u001b[38;5;241m.\u001b[39mDataFrame({\u001b[38;5;124m'\u001b[39m\u001b[38;5;124mx1\u001b[39m\u001b[38;5;124m'\u001b[39m:x_cord,\u001b[38;5;124m'\u001b[39m\u001b[38;5;124mx2\u001b[39m\u001b[38;5;124m'\u001b[39m:y_cord})\n\u001b[1;32m      7\u001b[0m \u001b[38;5;66;03m# 存放假设函数\u001b[39;00m\n\u001b[0;32m----> 8\u001b[0m h_val[\u001b[38;5;124m'\u001b[39m\u001b[38;5;124mhval\u001b[39m\u001b[38;5;124m'\u001b[39m]\u001b[38;5;241m=\u001b[39m\u001b[43mhfunc2\u001b[49m\u001b[43m(\u001b[49m\u001b[43mtheta\u001b[49m\u001b[43m,\u001b[49m\u001b[43mh_val\u001b[49m\u001b[43m[\u001b[49m\u001b[38;5;124;43m'\u001b[39;49m\u001b[38;5;124;43mx1\u001b[39;49m\u001b[38;5;124;43m'\u001b[39;49m\u001b[43m]\u001b[49m\u001b[43m,\u001b[49m\u001b[43mh_val\u001b[49m\u001b[43m[\u001b[49m\u001b[38;5;124;43m'\u001b[39;49m\u001b[38;5;124;43mx2\u001b[39;49m\u001b[38;5;124;43m'\u001b[39;49m\u001b[43m]\u001b[49m\u001b[43m)\u001b[49m\n\u001b[1;32m      9\u001b[0m decision \u001b[38;5;241m=\u001b[39m h_val[np\u001b[38;5;241m.\u001b[39mabs(h_val[\u001b[38;5;124m'\u001b[39m\u001b[38;5;124mhval\u001b[39m\u001b[38;5;124m'\u001b[39m])\u001b[38;5;241m<\u001b[39m\u001b[38;5;241m2\u001b[39m\u001b[38;5;241m*\u001b[39m\u001b[38;5;241m10\u001b[39m\u001b[38;5;241m*\u001b[39m\u001b[38;5;241m*\u001b[39m\u001b[38;5;241m-\u001b[39m\u001b[38;5;241m3\u001b[39m]\n\u001b[1;32m     10\u001b[0m \u001b[38;5;28;01mreturn\u001b[39;00m decision\u001b[38;5;241m.\u001b[39mx1,decision\u001b[38;5;241m.\u001b[39mx2\n",
      "Input \u001b[0;32mIn [165]\u001b[0m, in \u001b[0;36mhfunc2\u001b[0;34m(theta, x1, x2)\u001b[0m\n\u001b[1;32m      6\u001b[0m \u001b[38;5;28;01mfor\u001b[39;00m i \u001b[38;5;129;01min\u001b[39;00m \u001b[38;5;28mrange\u001b[39m(\u001b[38;5;241m1\u001b[39m,degree\u001b[38;5;241m+\u001b[39m\u001b[38;5;241m1\u001b[39m):\n\u001b[1;32m      7\u001b[0m     \u001b[38;5;28;01mfor\u001b[39;00m j \u001b[38;5;129;01min\u001b[39;00m \u001b[38;5;28mrange\u001b[39m(\u001b[38;5;241m0\u001b[39m,i\u001b[38;5;241m+\u001b[39m\u001b[38;5;241m1\u001b[39m):\n\u001b[0;32m----> 8\u001b[0m         temp\u001b[38;5;241m+\u001b[39m\u001b[38;5;241m=\u001b[39mnp\u001b[38;5;241m.\u001b[39mpower(x1,i\u001b[38;5;241m-\u001b[39mj)\u001b[38;5;241m*\u001b[39mnp\u001b[38;5;241m.\u001b[39mpower(x2,j)\u001b[38;5;241m*\u001b[39m\u001b[43mtheta\u001b[49m\u001b[43m[\u001b[49m\u001b[38;5;241;43m0\u001b[39;49m\u001b[43m]\u001b[49m\u001b[43m[\u001b[49m\u001b[43mplace\u001b[49m\u001b[38;5;241;43m+\u001b[39;49m\u001b[38;5;241;43m1\u001b[39;49m\u001b[43m]\u001b[49m\n\u001b[1;32m      9\u001b[0m         place\u001b[38;5;241m+\u001b[39m\u001b[38;5;241m=\u001b[39m\u001b[38;5;241m1\u001b[39m\n\u001b[1;32m     10\u001b[0m \u001b[38;5;28;01mreturn\u001b[39;00m temp\n",
      "\u001b[0;31mIndexError\u001b[0m: index 27 is out of bounds for axis 0 with size 27"
     ]
    },
    {
     "data": {
      "image/png": "[encoded data removed]",
      "text/plain": [
       "<Figure size 864x576 with 1 Axes>"
      ]
     },
     "metadata": {
      "needs_background": "light"
     },
     "output_type": "display_data"
    }
   ],
   "source": [
    "fig,ax = plt.subplots(figsize=(12,8))\n",
    "ax.scatter(positive2['Microchip Test 1'],positive2['Microchip Test 2'],s=50,c='b',marker='+',label='Accepted')\n",
    "ax.scatter(negative2['Microchip Test 1'],negative2['Microchip Test 2'],s=50,c='y',marker='o',label='Rejected')\n",
    "# 文字显示\n",
    "ax.set_xlabel('Microchip Test 1')\n",
    "ax.set_ylabel('Microchip Test 2')\n",
    "x,y = find_decision_boundary(result2)\n",
    "plt.scatter(x,y,c='r',s=10,label='Prediction')\n",
    "ax.legend()\n",
    "\n",
    "plt.show()"
   ]
  },
  {
   "cell_type": "code",
   "execution_count": null,
   "id": "231510a8",
   "metadata": {},
   "outputs": [],
   "source": []
  },
  {
   "cell_type": "code",
   "execution_count": null,
   "id": "f83050a2",
   "metadata": {},
   "outputs": [],
   "source": []
  }
 ],
 "metadata": {
  "kernelspec": {
   "display_name": "Python 3 (ipykernel)",
   "language": "python",
   "name": "python3"
  },
  "language_info": {
   "codemirror_mode": {
    "name": "ipython",
    "version": 3
   },
   "file_extension": ".py",
   "mimetype": "text/x-python",
   "name": "python",
   "nbconvert_exporter": "python",
   "pygments_lexer": "ipython3",
   "version": "3.8.3"
  }
 },
 "nbformat": 4,
 "nbformat_minor": 5
}
